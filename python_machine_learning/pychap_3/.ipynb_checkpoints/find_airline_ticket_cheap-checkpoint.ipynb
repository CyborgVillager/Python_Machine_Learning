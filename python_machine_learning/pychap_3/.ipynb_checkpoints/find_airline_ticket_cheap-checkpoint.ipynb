{
 "cells": [
  {
   "cell_type": "code",
   "execution_count": 1,
   "metadata": {},
   "outputs": [],
   "source": [
    "import numpy as np\n",
    "import pandas as pd\n",
    "import matplotlib.pyplot as plt\n",
    "%matplotlib inline"
   ]
  },
  {
   "cell_type": "code",
   "execution_count": 2,
   "metadata": {},
   "outputs": [],
   "source": [
    "from bs4 import BeautifulSoup\n",
    "from selenium import webdriver\n",
    "chromedriver_path = \"chromedriver/chromedriver\"\n",
    "browser = webdriver.Chrome(chromedriver_path)"
   ]
  },
  {
   "cell_type": "code",
   "execution_count": 3,
   "metadata": {},
   "outputs": [
    {
     "ename": "NameError",
     "evalue": "name 'sats' is not defined",
     "output_type": "error",
     "traceback": [
      "\u001b[1;31m---------------------------------------------------------------------------\u001b[0m",
      "\u001b[1;31mNameError\u001b[0m                                 Traceback (most recent call last)",
      "\u001b[1;32m<ipython-input-3-49b5fcfd0f0c>\u001b[0m in \u001b[0;36m<module>\u001b[1;34m\u001b[0m\n\u001b[1;32m----> 1\u001b[1;33m \u001b[0mbrowser\u001b[0m\u001b[1;33m.\u001b[0m\u001b[0mget\u001b[0m\u001b[1;33m(\u001b[0m\u001b[0msats\u001b[0m\u001b[1;33m)\u001b[0m\u001b[1;33m\u001b[0m\u001b[1;33m\u001b[0m\u001b[0m\n\u001b[0m",
      "\u001b[1;31mNameError\u001b[0m: name 'sats' is not defined"
     ]
    }
   ],
   "source": [
    "#Chicago to Montana flights\n",
    "sats = 'https://www.google.com/travel/explore?tfs=CBkQAxooEgoyMDIwLTAzLTAxagwIAhIIL20vMDFfZDRyDAgEEggvbS8wNTBsOBooEgoyMDIwLTAzLTA3agwIBBIIL20vMDUwbDhyDAgCEggvbS8wMV9kNEABSAFSA1VTRHAB&curr=USD&gl=us&hl=en&authuser=0&origin=https%3A%2F%2Fwww.google.com&mvb=ChIJoWKc0WWYSUARrBqEuX24WMASEgnnNUrBw8FFQBGsGoS5fXddwA'\n",
    "\n",
    "# will work on incrementing file names in the near future basic test\n",
    "\n",
    "image_location = 'screenshot/'\n",
    "img_name = 'flight_image_0'\n",
    "file_format = '.png'\n",
    "try:\n",
    "    browser.save_screenshot(image_location + img_name + file_format)\n",
    "    print('Success, image is now saved @ folder screenshot. Saved as ' + img_name)\n",
    "except OSError:\n",
    "                print('Error cant save file ' + img_name + ' at this time' + 'please check the folder' + '\\n' +\n",
    "                      'screenshot')\n",
    "\n"
   ]
  },
  {
   "cell_type": "code",
   "execution_count": null,
   "metadata": {},
   "outputs": [],
   "source": [
    "browser.get(sats)"
   ]
  },
  {
   "cell_type": "code",
   "execution_count": null,
   "metadata": {},
   "outputs": [],
   "source": [
    "browser.title"
   ]
  },
  {
   "cell_type": "code",
   "execution_count": null,
   "metadata": {
    "pycharm": {
     "name": "#%%\n"
    }
   },
   "outputs": [],
   "source": []
  },
  {
   "cell_type": "code",
   "execution_count": null,
   "metadata": {},
   "outputs": [],
   "source": []
  },
  {
   "cell_type": "code",
   "execution_count": null,
   "metadata": {},
   "outputs": [],
   "source": []
  }
 ],
 "metadata": {
  "kernelspec": {
   "display_name": "Python 3",
   "language": "python",
   "name": "python3"
  },
  "language_info": {
   "codemirror_mode": {
    "name": "ipython",
    "version": 3
   },
   "file_extension": ".py",
   "mimetype": "text/x-python",
   "name": "python",
   "nbconvert_exporter": "python",
   "pygments_lexer": "ipython3",
   "version": "3.7.4"
  },
  "pycharm": {
   "stem_cell": {
    "cell_type": "raw",
    "metadata": {
     "collapsed": false
    },
    "source": []
   }
  },
  "widgets": {
   "application/vnd.jupyter.widget-state+json": {
    "state": {},
    "version_major": 2,
    "version_minor": 0
   }
  }
 },
 "nbformat": 4,
 "nbformat_minor": 2
}
