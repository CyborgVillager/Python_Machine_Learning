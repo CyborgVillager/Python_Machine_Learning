{
 "cells": [
  {
   "cell_type": "code",
   "execution_count": 11,
   "metadata": {},
   "outputs": [],
   "source": [
    "# visual intro 4 jupyter\n",
    "import matplotlib.pyplot as plt\n",
    "# more info on ggplot -> https://ggplot2.tidyverse.org/\n",
    "plt.style.use('ggplot')\n",
    "%matplotlib inline\n",
    "\n",
    "# jupyter intro\n",
    "import pandas as pd\n",
    "import sklearn\n",
    "from sklearn import datasets"
   ]
  },
  {
   "cell_type": "code",
   "execution_count": 17,
   "metadata": {},
   "outputs": [],
   "source": [
    "# info from jupyter intro -> dataset_for_jupyter\n",
    "iris_data = datasets.load_iris()\n",
    "iris_data['target_names']\n",
    "df_data = pd.DataFrame(iris_data['data'],columns=iris_data['feature_names'])\n",
    "df_target = pd.DataFrame(iris_data['target'], columns=['species'])\n",
    "df = pd.concat([df_data,df_target],axis=1)\n"
   ]
  },
  {
   "cell_type": "code",
   "execution_count": 32,
   "metadata": {},
   "outputs": [
    {
     "data": {
      "text/plain": [
       "Text(0.5, 1.01, 'Iris Petal Width')"
      ]
     },
     "execution_count": 32,
     "metadata": {},
     "output_type": "execute_result"
    },
    {
     "data": {
      "image/png": "[encoded data removed]",
      "text/plain": [
       "<Figure size 720x360 with 1 Axes>"
      ]
     },
     "metadata": {
      "needs_background": "light"
     },
     "output_type": "display_data"
    }
   ],
   "source": [
    "\n",
    "# Graph info & explaination\n",
    "fig, ax = plt.subplots(figsize=(10,5)) # creates the subplot -> 8inch width by 4inch height\n",
    "ax.hist(df['petal width (cm)'], color='green'); #this plots the histogram 4 petal width from iris df \n",
    "# by naming it .hist then pass the data, auto set the color to green\n",
    "ax.set_ylabel('Count', fontsize=14) # set the y label position / font size\n",
    "ax.set_xlabel('Width', fontsize=14) # set the x label position / font size\n",
    "plt.title('Iris Petal Width', fontsize=14, y=1.01) # set the graph title , y position & font size"
   ]
  },
  {
   "cell_type": "code",
   "execution_count": null,
   "metadata": {},
   "outputs": [],
   "source": []
  },
  {
   "cell_type": "code",
   "execution_count": null,
   "metadata": {},
   "outputs": [],
   "source": []
  }
 ],
 "metadata": {
  "kernelspec": {
   "display_name": "Python 3",
   "language": "python",
   "name": "python3"
  },
  "language_info": {
   "codemirror_mode": {
    "name": "ipython",
    "version": 3
   },
   "file_extension": ".py",
   "mimetype": "text/x-python",
   "name": "python",
   "nbconvert_exporter": "python",
   "pygments_lexer": "ipython3",
   "version": "3.7.4"
  },
  "widgets": {
   "application/vnd.jupyter.widget-state+json": {
    "state": {},
    "version_major": 2,
    "version_minor": 0
   }
  }
 },
 "nbformat": 4,
 "nbformat_minor": 2
}
