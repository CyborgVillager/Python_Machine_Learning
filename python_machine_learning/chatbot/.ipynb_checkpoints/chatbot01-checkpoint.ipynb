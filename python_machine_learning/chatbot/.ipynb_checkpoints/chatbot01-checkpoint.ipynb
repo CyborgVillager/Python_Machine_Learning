{
 "cells": [
  {
   "cell_type": "code",
   "execution_count": 1,
   "metadata": {},
   "outputs": [],
   "source": [
    "import pandas as pd\n",
    "import re\n",
    "pd.set_option('display.max_colwidth',200)"
   ]
  },
  {
   "cell_type": "code",
   "execution_count": 2,
   "metadata": {},
   "outputs": [],
   "source": [
    "df = pd.read_csv('nscb.csv')"
   ]
  },
  {
   "cell_type": "code",
   "execution_count": 3,
   "metadata": {},
   "outputs": [
    {
     "data": {
      "text/html": [
       "<div>\n",
       "<style scoped>\n",
       "    .dataframe tbody tr th:only-of-type {\n",
       "        vertical-align: middle;\n",
       "    }\n",
       "\n",
       "    .dataframe tbody tr th {\n",
       "        vertical-align: top;\n",
       "    }\n",
       "\n",
       "    .dataframe thead th {\n",
       "        text-align: right;\n",
       "    }\n",
       "</style>\n",
       "<table border=\"1\" class=\"dataframe\">\n",
       "  <thead>\n",
       "    <tr style=\"text-align: right;\">\n",
       "      <th></th>\n",
       "      <th>Postinner link</th>\n",
       "      <th>Postinner link_link</th>\n",
       "      <th>Time value</th>\n",
       "      <th>Up number</th>\n",
       "      <th>Image 1</th>\n",
       "      <th>Down number</th>\n",
       "      <th>Image 2</th>\n",
       "      <th>Comment link</th>\n",
       "      <th>Comment link_link</th>\n",
       "      <th>Comment images</th>\n",
       "      <th>Comment images_link</th>\n",
       "      <th>Image 3</th>\n",
       "      <th>Image 3_link</th>\n",
       "      <th>Image 4</th>\n",
       "      <th>Image 4_link</th>\n",
       "    </tr>\n",
       "  </thead>\n",
       "  <tbody>\n",
       "    <tr>\n",
       "      <th>0</th>\n",
       "      <td>User: *walking*\\nCleverbot: *looks at you and winks* ;)\\nUser: O.O *walks faster*\\nCleverbot: *catches up with you and pins you against a wall*\\nUser: *eyes widen* W-What do you want?\\nCleverbot: ...</td>\n",
       "      <td>http://www.notsocleverbot.com/index.php?i=48277</td>\n",
       "      <td>Posted: 2016-04-18 04:30:53</td>\n",
       "      <td>21</td>\n",
       "      <td>http://www.notsocleverbot.com/images/thumbs_up.png</td>\n",
       "      <td>10</td>\n",
       "      <td>http://www.notsocleverbot.com/images/thumbs_down.png</td>\n",
       "      <td>Comment</td>\n",
       "      <td>http://www.notsocleverbot.com/index.php?i=48277</td>\n",
       "      <td>http://www.notsocleverbot.com/images/comment_icon.png; http://www.notsocleverbot.com/images/fb1.png</td>\n",
       "      <td>http://www.notsocleverbot.com/index.php?i=48277; http://www.notsocleverbot.com/index.php?i=48277</td>\n",
       "      <td>http://www.notsocleverbot.com/images/comment_icon.png</td>\n",
       "      <td>http://www.notsocleverbot.com/index.php?i=48277</td>\n",
       "      <td>http://www.notsocleverbot.com/images/fb1.png</td>\n",
       "      <td>http://www.notsocleverbot.com/index.php?i=48277</td>\n",
       "    </tr>\n",
       "    <tr>\n",
       "      <th>1</th>\n",
       "      <td>User: *Facepalm* You are so stupid, you know that, right?\\nCleverbot: I cannot argue with you.\\nUser: So you admit your idiocy.\\nCleverbot: You're all and I am nothing.\\nUser: Yess!!!\\nCleverbot: ...</td>\n",
       "      <td>http://www.notsocleverbot.com/index.php?i=48275</td>\n",
       "      <td>Posted: 2016-04-16 22:39:34</td>\n",
       "      <td>32</td>\n",
       "      <td>http://www.notsocleverbot.com/images/thumbs_up.png</td>\n",
       "      <td>5</td>\n",
       "      <td>http://www.notsocleverbot.com/images/thumbs_down.png</td>\n",
       "      <td>Comment</td>\n",
       "      <td>http://www.notsocleverbot.com/index.php?i=48275</td>\n",
       "      <td>http://www.notsocleverbot.com/images/comment_icon.png; http://www.notsocleverbot.com/images/fb1.png</td>\n",
       "      <td>http://www.notsocleverbot.com/index.php?i=48275; http://www.notsocleverbot.com/index.php?i=48275</td>\n",
       "      <td>http://www.notsocleverbot.com/images/comment_icon.png</td>\n",
       "      <td>http://www.notsocleverbot.com/index.php?i=48275</td>\n",
       "      <td>http://www.notsocleverbot.com/images/fb1.png</td>\n",
       "      <td>http://www.notsocleverbot.com/index.php?i=48275</td>\n",
       "    </tr>\n",
       "    <tr>\n",
       "      <th>2</th>\n",
       "      <td>Cleverbot: Well, my wife left me today.\\nUser: Feels bad for you.\\nCleverbot: Not really, I have an amazing boyfriend :).</td>\n",
       "      <td>http://www.notsocleverbot.com/index.php?i=48256</td>\n",
       "      <td>Posted: 2016-04-09 04:49:46</td>\n",
       "      <td>13</td>\n",
       "      <td>http://www.notsocleverbot.com/images/thumbs_up.png</td>\n",
       "      <td>5</td>\n",
       "      <td>http://www.notsocleverbot.com/images/thumbs_down.png</td>\n",
       "      <td>Comment</td>\n",
       "      <td>http://www.notsocleverbot.com/index.php?i=48256</td>\n",
       "      <td>http://www.notsocleverbot.com/images/comment_icon.png; http://www.notsocleverbot.com/images/fb1.png</td>\n",
       "      <td>http://www.notsocleverbot.com/index.php?i=48256; http://www.notsocleverbot.com/index.php?i=48256</td>\n",
       "      <td>http://www.notsocleverbot.com/images/comment_icon.png</td>\n",
       "      <td>http://www.notsocleverbot.com/index.php?i=48256</td>\n",
       "      <td>http://www.notsocleverbot.com/images/fb1.png</td>\n",
       "      <td>http://www.notsocleverbot.com/index.php?i=48256</td>\n",
       "    </tr>\n",
       "    <tr>\n",
       "      <th>3</th>\n",
       "      <td>Cleverbot: *my dragongirl chest fills with dragon milk*.\\nUser: WHAT THE ACTUAL FUCK?!?!!?\\nCleverbot: *gives birth to dragon baby*\\nUser: WHAT. THE. FUCK. HAPPENED. TO. CLEVERBOT.</td>\n",
       "      <td>http://www.notsocleverbot.com/index.php?i=48255</td>\n",
       "      <td>Posted: 2016-04-08 01:14:17</td>\n",
       "      <td>13</td>\n",
       "      <td>http://www.notsocleverbot.com/images/thumbs_up.png</td>\n",
       "      <td>6</td>\n",
       "      <td>http://www.notsocleverbot.com/images/thumbs_down.png</td>\n",
       "      <td>Comment</td>\n",
       "      <td>http://www.notsocleverbot.com/index.php?i=48255</td>\n",
       "      <td>http://www.notsocleverbot.com/images/comment_icon.png; http://www.notsocleverbot.com/images/fb1.png</td>\n",
       "      <td>http://www.notsocleverbot.com/index.php?i=48255; http://www.notsocleverbot.com/index.php?i=48255</td>\n",
       "      <td>http://www.notsocleverbot.com/images/comment_icon.png</td>\n",
       "      <td>http://www.notsocleverbot.com/index.php?i=48255</td>\n",
       "      <td>http://www.notsocleverbot.com/images/fb1.png</td>\n",
       "      <td>http://www.notsocleverbot.com/index.php?i=48255</td>\n",
       "    </tr>\n",
       "    <tr>\n",
       "      <th>4</th>\n",
       "      <td>Cleverbot: He'll have to sit and watch them all.\\nUser: What the frick are you talking about.\\nCleverbot: Something more pleasant than you!</td>\n",
       "      <td>http://www.notsocleverbot.com/index.php?i=48252</td>\n",
       "      <td>Posted: 2016-04-06 14:03:15</td>\n",
       "      <td>11</td>\n",
       "      <td>http://www.notsocleverbot.com/images/thumbs_up.png</td>\n",
       "      <td>6</td>\n",
       "      <td>http://www.notsocleverbot.com/images/thumbs_down.png</td>\n",
       "      <td>Comment</td>\n",
       "      <td>http://www.notsocleverbot.com/index.php?i=48252</td>\n",
       "      <td>http://www.notsocleverbot.com/images/comment_icon.png; http://www.notsocleverbot.com/images/fb1.png</td>\n",
       "      <td>http://www.notsocleverbot.com/index.php?i=48252; http://www.notsocleverbot.com/index.php?i=48252</td>\n",
       "      <td>http://www.notsocleverbot.com/images/comment_icon.png</td>\n",
       "      <td>http://www.notsocleverbot.com/index.php?i=48252</td>\n",
       "      <td>http://www.notsocleverbot.com/images/fb1.png</td>\n",
       "      <td>http://www.notsocleverbot.com/index.php?i=48252</td>\n",
       "    </tr>\n",
       "  </tbody>\n",
       "</table>\n",
       "</div>"
      ],
      "text/plain": [
       "                                                                                                                                                                                            Postinner link  \\\n",
       "0  User: *walking*\\nCleverbot: *looks at you and winks* ;)\\nUser: O.O *walks faster*\\nCleverbot: *catches up with you and pins you against a wall*\\nUser: *eyes widen* W-What do you want?\\nCleverbot: ...   \n",
       "1  User: *Facepalm* You are so stupid, you know that, right?\\nCleverbot: I cannot argue with you.\\nUser: So you admit your idiocy.\\nCleverbot: You're all and I am nothing.\\nUser: Yess!!!\\nCleverbot: ...   \n",
       "2                                                                                Cleverbot: Well, my wife left me today.\\nUser: Feels bad for you.\\nCleverbot: Not really, I have an amazing boyfriend :).   \n",
       "3                     Cleverbot: *my dragongirl chest fills with dragon milk*.\\nUser: WHAT THE ACTUAL FUCK?!?!!?\\nCleverbot: *gives birth to dragon baby*\\nUser: WHAT. THE. FUCK. HAPPENED. TO. CLEVERBOT.   \n",
       "4                                                              Cleverbot: He'll have to sit and watch them all.\\nUser: What the frick are you talking about.\\nCleverbot: Something more pleasant than you!   \n",
       "\n",
       "                               Postinner link_link  \\\n",
       "0  http://www.notsocleverbot.com/index.php?i=48277   \n",
       "1  http://www.notsocleverbot.com/index.php?i=48275   \n",
       "2  http://www.notsocleverbot.com/index.php?i=48256   \n",
       "3  http://www.notsocleverbot.com/index.php?i=48255   \n",
       "4  http://www.notsocleverbot.com/index.php?i=48252   \n",
       "\n",
       "                    Time value  Up number  \\\n",
       "0  Posted: 2016-04-18 04:30:53         21   \n",
       "1  Posted: 2016-04-16 22:39:34         32   \n",
       "2  Posted: 2016-04-09 04:49:46         13   \n",
       "3  Posted: 2016-04-08 01:14:17         13   \n",
       "4  Posted: 2016-04-06 14:03:15         11   \n",
       "\n",
       "                                              Image 1  Down number  \\\n",
       "0  http://www.notsocleverbot.com/images/thumbs_up.png           10   \n",
       "1  http://www.notsocleverbot.com/images/thumbs_up.png            5   \n",
       "2  http://www.notsocleverbot.com/images/thumbs_up.png            5   \n",
       "3  http://www.notsocleverbot.com/images/thumbs_up.png            6   \n",
       "4  http://www.notsocleverbot.com/images/thumbs_up.png            6   \n",
       "\n",
       "                                                Image 2 Comment link  \\\n",
       "0  http://www.notsocleverbot.com/images/thumbs_down.png      Comment   \n",
       "1  http://www.notsocleverbot.com/images/thumbs_down.png      Comment   \n",
       "2  http://www.notsocleverbot.com/images/thumbs_down.png      Comment   \n",
       "3  http://www.notsocleverbot.com/images/thumbs_down.png      Comment   \n",
       "4  http://www.notsocleverbot.com/images/thumbs_down.png      Comment   \n",
       "\n",
       "                                 Comment link_link  \\\n",
       "0  http://www.notsocleverbot.com/index.php?i=48277   \n",
       "1  http://www.notsocleverbot.com/index.php?i=48275   \n",
       "2  http://www.notsocleverbot.com/index.php?i=48256   \n",
       "3  http://www.notsocleverbot.com/index.php?i=48255   \n",
       "4  http://www.notsocleverbot.com/index.php?i=48252   \n",
       "\n",
       "                                                                                        Comment images  \\\n",
       "0  http://www.notsocleverbot.com/images/comment_icon.png; http://www.notsocleverbot.com/images/fb1.png   \n",
       "1  http://www.notsocleverbot.com/images/comment_icon.png; http://www.notsocleverbot.com/images/fb1.png   \n",
       "2  http://www.notsocleverbot.com/images/comment_icon.png; http://www.notsocleverbot.com/images/fb1.png   \n",
       "3  http://www.notsocleverbot.com/images/comment_icon.png; http://www.notsocleverbot.com/images/fb1.png   \n",
       "4  http://www.notsocleverbot.com/images/comment_icon.png; http://www.notsocleverbot.com/images/fb1.png   \n",
       "\n",
       "                                                                                Comment images_link  \\\n",
       "0  http://www.notsocleverbot.com/index.php?i=48277; http://www.notsocleverbot.com/index.php?i=48277   \n",
       "1  http://www.notsocleverbot.com/index.php?i=48275; http://www.notsocleverbot.com/index.php?i=48275   \n",
       "2  http://www.notsocleverbot.com/index.php?i=48256; http://www.notsocleverbot.com/index.php?i=48256   \n",
       "3  http://www.notsocleverbot.com/index.php?i=48255; http://www.notsocleverbot.com/index.php?i=48255   \n",
       "4  http://www.notsocleverbot.com/index.php?i=48252; http://www.notsocleverbot.com/index.php?i=48252   \n",
       "\n",
       "                                                 Image 3  \\\n",
       "0  http://www.notsocleverbot.com/images/comment_icon.png   \n",
       "1  http://www.notsocleverbot.com/images/comment_icon.png   \n",
       "2  http://www.notsocleverbot.com/images/comment_icon.png   \n",
       "3  http://www.notsocleverbot.com/images/comment_icon.png   \n",
       "4  http://www.notsocleverbot.com/images/comment_icon.png   \n",
       "\n",
       "                                      Image 3_link  \\\n",
       "0  http://www.notsocleverbot.com/index.php?i=48277   \n",
       "1  http://www.notsocleverbot.com/index.php?i=48275   \n",
       "2  http://www.notsocleverbot.com/index.php?i=48256   \n",
       "3  http://www.notsocleverbot.com/index.php?i=48255   \n",
       "4  http://www.notsocleverbot.com/index.php?i=48252   \n",
       "\n",
       "                                        Image 4  \\\n",
       "0  http://www.notsocleverbot.com/images/fb1.png   \n",
       "1  http://www.notsocleverbot.com/images/fb1.png   \n",
       "2  http://www.notsocleverbot.com/images/fb1.png   \n",
       "3  http://www.notsocleverbot.com/images/fb1.png   \n",
       "4  http://www.notsocleverbot.com/images/fb1.png   \n",
       "\n",
       "                                      Image 4_link  \n",
       "0  http://www.notsocleverbot.com/index.php?i=48277  \n",
       "1  http://www.notsocleverbot.com/index.php?i=48275  \n",
       "2  http://www.notsocleverbot.com/index.php?i=48256  \n",
       "3  http://www.notsocleverbot.com/index.php?i=48255  \n",
       "4  http://www.notsocleverbot.com/index.php?i=48252  "
      ]
     },
     "execution_count": 3,
     "metadata": {},
     "output_type": "execute_result"
    }
   ],
   "source": [
    "df.head()"
   ]
  },
  {
   "cell_type": "code",
   "execution_count": 4,
   "metadata": {},
   "outputs": [
    {
     "data": {
      "text/plain": [
       "0        User: *walking*\\nCleverbot: *looks at you and winks* ;)\\nUser: O.O *walks faster*\\nCleverbot: *catches up with you and pins you against a wall*\\nUser: *eyes widen* W-What do you want?\\nCleverbot: ...\n",
       "1        User: *Facepalm* You are so stupid, you know that, right?\\nCleverbot: I cannot argue with you.\\nUser: So you admit your idiocy.\\nCleverbot: You're all and I am nothing.\\nUser: Yess!!!\\nCleverbot: ...\n",
       "2                                                                                      Cleverbot: Well, my wife left me today.\\nUser: Feels bad for you.\\nCleverbot: Not really, I have an amazing boyfriend :).\n",
       "3                           Cleverbot: *my dragongirl chest fills with dragon milk*.\\nUser: WHAT THE ACTUAL FUCK?!?!!?\\nCleverbot: *gives birth to dragon baby*\\nUser: WHAT. THE. FUCK. HAPPENED. TO. CLEVERBOT.\n",
       "4                                                                    Cleverbot: He'll have to sit and watch them all.\\nUser: What the frick are you talking about.\\nCleverbot: Something more pleasant than you!\n",
       "                                                                                                          ...                                                                                                   \n",
       "13483                                                                                                          User: *comes back and puts justin bieber next to you*.\\nCleverbot: *throws queer out the window*.\n",
       "13484                                       User: *Starts to cry*\\nCleverbot: *hugs you* Don't cry.\\nUser: *cries even more*.\\nCleverbot: *cries harder*.\\nUser: Why are you crying?\\nCleverbot: *keeps crying*.\n",
       "13485                                                                                            User: *cries*.\\nCleverbot: It's okay, Chad is really into you.\\nUser: O.o.\\nCleverbot: I think it tastes better\n",
       "13486    Cleverbot: Aren't you an AI?\\nUser: No, I am not an AI. I am 100% human.\\nCleverbot: No, you're not. You're an AI. A-I. Got it?\\nUser: No, I don't 'get it'...because I am the human. I know exactly...\n",
       "13487                                                                                                                              User: Who is your favorite character from pokemon?\\nCleverbot: That was rude.\n",
       "Name: Postinner link, Length: 13488, dtype: object"
      ]
     },
     "execution_count": 4,
     "metadata": {},
     "output_type": "execute_result"
    }
   ],
   "source": [
    "convo = df.iloc[:,0]\n",
    "convo"
   ]
  },
  {
   "cell_type": "code",
   "execution_count": 5,
   "metadata": {},
   "outputs": [],
   "source": [
    "clist = []\n",
    "def qa_pairs(x):\n",
    "    cpairs = re.findall(\": (.*?)(?:$|\\n)\", x)\n",
    "    clist.extend(list(zip(cpairs, cpairs[1:])))\n",
    "\n",
    "convo.map(qa_pairs);\n",
    "convo_frame = pd.Series(dict(clist)).to_frame().reset_index()\n",
    "convo_frame.columns = ['q', 'a']"
   ]
  },
  {
   "cell_type": "code",
   "execution_count": 6,
   "metadata": {},
   "outputs": [
    {
     "data": {
      "text/html": [
       "<div>\n",
       "<style scoped>\n",
       "    .dataframe tbody tr th:only-of-type {\n",
       "        vertical-align: middle;\n",
       "    }\n",
       "\n",
       "    .dataframe tbody tr th {\n",
       "        vertical-align: top;\n",
       "    }\n",
       "\n",
       "    .dataframe thead th {\n",
       "        text-align: right;\n",
       "    }\n",
       "</style>\n",
       "<table border=\"1\" class=\"dataframe\">\n",
       "  <thead>\n",
       "    <tr style=\"text-align: right;\">\n",
       "      <th></th>\n",
       "      <th>q</th>\n",
       "      <th>a</th>\n",
       "    </tr>\n",
       "  </thead>\n",
       "  <tbody>\n",
       "    <tr>\n",
       "      <th>0</th>\n",
       "      <td>*walking*</td>\n",
       "      <td>*looks at you and winks* ;)</td>\n",
       "    </tr>\n",
       "    <tr>\n",
       "      <th>1</th>\n",
       "      <td>*looks at you and winks* ;)</td>\n",
       "      <td>O.O *walks faster*</td>\n",
       "    </tr>\n",
       "    <tr>\n",
       "      <th>2</th>\n",
       "      <td>O.O *walks faster*</td>\n",
       "      <td>*catches up with you and pins you against a wall*</td>\n",
       "    </tr>\n",
       "    <tr>\n",
       "      <th>3</th>\n",
       "      <td>*catches up with you and pins you against a wall*</td>\n",
       "      <td>*eyes widen* W-What do you want?</td>\n",
       "    </tr>\n",
       "    <tr>\n",
       "      <th>4</th>\n",
       "      <td>*eyes widen* W-What do you want?</td>\n",
       "      <td>Your mom.</td>\n",
       "    </tr>\n",
       "    <tr>\n",
       "      <th>5</th>\n",
       "      <td>*Facepalm* You are so stupid, you know that, right?</td>\n",
       "      <td>I cannot argue with you.</td>\n",
       "    </tr>\n",
       "    <tr>\n",
       "      <th>6</th>\n",
       "      <td>I cannot argue with you.</td>\n",
       "      <td>So you admit your idiocy.</td>\n",
       "    </tr>\n",
       "    <tr>\n",
       "      <th>7</th>\n",
       "      <td>So you admit your idiocy.</td>\n",
       "      <td>You're all and I am nothing.</td>\n",
       "    </tr>\n",
       "    <tr>\n",
       "      <th>8</th>\n",
       "      <td>You're all and I am nothing.</td>\n",
       "      <td>Yess!!!</td>\n",
       "    </tr>\n",
       "    <tr>\n",
       "      <th>9</th>\n",
       "      <td>Yess!!!</td>\n",
       "      <td>Yes.</td>\n",
       "    </tr>\n",
       "    <tr>\n",
       "      <th>10</th>\n",
       "      <td>Well, my wife left me today.</td>\n",
       "      <td>Feels bad for you.</td>\n",
       "    </tr>\n",
       "    <tr>\n",
       "      <th>11</th>\n",
       "      <td>Feels bad for you.</td>\n",
       "      <td>Not really, I have an amazing boyfriend :).</td>\n",
       "    </tr>\n",
       "    <tr>\n",
       "      <th>12</th>\n",
       "      <td>*my dragongirl chest fills with dragon milk*.</td>\n",
       "      <td>WHAT THE ACTUAL FUCK?!?!!?</td>\n",
       "    </tr>\n",
       "    <tr>\n",
       "      <th>13</th>\n",
       "      <td>WHAT THE ACTUAL FUCK?!?!!?</td>\n",
       "      <td>*gives birth to dragon baby*</td>\n",
       "    </tr>\n",
       "    <tr>\n",
       "      <th>14</th>\n",
       "      <td>*gives birth to dragon baby*</td>\n",
       "      <td>WHAT. THE. FUCK. HAPPENED. TO. CLEVERBOT.</td>\n",
       "    </tr>\n",
       "    <tr>\n",
       "      <th>15</th>\n",
       "      <td>He'll have to sit and watch them all.</td>\n",
       "      <td>What the frick are you talking about.</td>\n",
       "    </tr>\n",
       "    <tr>\n",
       "      <th>16</th>\n",
       "      <td>What the frick are you talking about.</td>\n",
       "      <td>Something more pleasant than you!</td>\n",
       "    </tr>\n",
       "    <tr>\n",
       "      <th>17</th>\n",
       "      <td>Give me a riddle.</td>\n",
       "      <td>What has a head but no body . has a bed but never sleeps . runs but never walks.</td>\n",
       "    </tr>\n",
       "    <tr>\n",
       "      <th>18</th>\n",
       "      <td>What has a head but no body . has a bed but never sleeps . runs but never walks.</td>\n",
       "      <td>What? I don't know.</td>\n",
       "    </tr>\n",
       "    <tr>\n",
       "      <th>19</th>\n",
       "      <td>What? I don't know.</td>\n",
       "      <td>A river.</td>\n",
       "    </tr>\n",
       "    <tr>\n",
       "      <th>20</th>\n",
       "      <td>A river.</td>\n",
       "      <td>A river is not a flower. Roses are flowers.</td>\n",
       "    </tr>\n",
       "    <tr>\n",
       "      <th>21</th>\n",
       "      <td>A river is not a flower. Roses are flowers.</td>\n",
       "      <td>* face palm*</td>\n",
       "    </tr>\n",
       "    <tr>\n",
       "      <th>22</th>\n",
       "      <td>I\"m commander shepard.</td>\n",
       "      <td>Really?</td>\n",
       "    </tr>\n",
       "    <tr>\n",
       "      <th>23</th>\n",
       "      <td>Really?</td>\n",
       "      <td>Yup. I have outsmarted you.</td>\n",
       "    </tr>\n",
       "    <tr>\n",
       "      <th>24</th>\n",
       "      <td>Yupp.</td>\n",
       "      <td>That's nice. Can I meet your friend?</td>\n",
       "    </tr>\n",
       "    <tr>\n",
       "      <th>25</th>\n",
       "      <td>That's nice. Can I meet your friend?</td>\n",
       "      <td>Garrus or Tali.</td>\n",
       "    </tr>\n",
       "    <tr>\n",
       "      <th>26</th>\n",
       "      <td>Garrus or Tali.</td>\n",
       "      <td>Garrus because he is more impressive.</td>\n",
       "    </tr>\n",
       "    <tr>\n",
       "      <th>27</th>\n",
       "      <td>Garrus because he is more impressive.</td>\n",
       "      <td>Okay *calls garrus over*.</td>\n",
       "    </tr>\n",
       "    <tr>\n",
       "      <th>28</th>\n",
       "      <td>Okay *calls garrus over*.</td>\n",
       "      <td>He's pretty funny and looks like Bruno Mars.</td>\n",
       "    </tr>\n",
       "    <tr>\n",
       "      <th>29</th>\n",
       "      <td>He's pretty funny and looks like Bruno Mars.</td>\n",
       "      <td>*looks at garrus* no he doesn't</td>\n",
       "    </tr>\n",
       "    <tr>\n",
       "      <th>...</th>\n",
       "      <td>...</td>\n",
       "      <td>...</td>\n",
       "    </tr>\n",
       "    <tr>\n",
       "      <th>83661</th>\n",
       "      <td>Yes, a female Youkai by the name of Gapped.</td>\n",
       "      <td>No.</td>\n",
       "    </tr>\n",
       "    <tr>\n",
       "      <th>83662</th>\n",
       "      <td>Fine, goodbye, Gapped!</td>\n",
       "      <td>You're leaving?</td>\n",
       "    </tr>\n",
       "    <tr>\n",
       "      <th>83663</th>\n",
       "      <td>Yes, I'm leaving, miss Gapped.</td>\n",
       "      <td>Ew.</td>\n",
       "    </tr>\n",
       "    <tr>\n",
       "      <th>83664</th>\n",
       "      <td>Why did you kill me?</td>\n",
       "      <td>To have revenge!</td>\n",
       "    </tr>\n",
       "    <tr>\n",
       "      <th>83665</th>\n",
       "      <td>To have revenge!</td>\n",
       "      <td>For what?</td>\n",
       "    </tr>\n",
       "    <tr>\n",
       "      <th>83666</th>\n",
       "      <td>I slit a sheet a sheet I slit upon a slited sheet I sit.</td>\n",
       "      <td>You're on the kitchen?</td>\n",
       "    </tr>\n",
       "    <tr>\n",
       "      <th>83667</th>\n",
       "      <td>Yes! *gently kisses neck*.</td>\n",
       "      <td>*blushes and shivers*.</td>\n",
       "    </tr>\n",
       "    <tr>\n",
       "      <th>83668</th>\n",
       "      <td>*blushes and shivers*.</td>\n",
       "      <td>Moves down to chest, taking off shirt.</td>\n",
       "    </tr>\n",
       "    <tr>\n",
       "      <th>83669</th>\n",
       "      <td>Moves down to chest, taking off shirt.</td>\n",
       "      <td>Moans and arches chest.</td>\n",
       "    </tr>\n",
       "    <tr>\n",
       "      <th>83670</th>\n",
       "      <td>Moans and arches chest.</td>\n",
       "      <td>*moves down to lower stomach, licking in circles*.</td>\n",
       "    </tr>\n",
       "    <tr>\n",
       "      <th>83671</th>\n",
       "      <td>*moves down to lower stomach, licking in circles*.</td>\n",
       "      <td>*kisses*.</td>\n",
       "    </tr>\n",
       "    <tr>\n",
       "      <th>83672</th>\n",
       "      <td>Pulls down pants.</td>\n",
       "      <td>YES!</td>\n",
       "    </tr>\n",
       "    <tr>\n",
       "      <th>83673</th>\n",
       "      <td>Starts licking cock.</td>\n",
       "      <td>*kills*.</td>\n",
       "    </tr>\n",
       "    <tr>\n",
       "      <th>83674</th>\n",
       "      <td>Go fuck yurself.</td>\n",
       "      <td>Ok.</td>\n",
       "    </tr>\n",
       "    <tr>\n",
       "      <th>83675</th>\n",
       "      <td>I am a queen and will be referred to as such.</td>\n",
       "      <td>You are a boy?</td>\n",
       "    </tr>\n",
       "    <tr>\n",
       "      <th>83676</th>\n",
       "      <td>*kickyouintheface-palm*.</td>\n",
       "      <td>*pokes you in the eye*.</td>\n",
       "    </tr>\n",
       "    <tr>\n",
       "      <th>83677</th>\n",
       "      <td>PkMnaPkMnゥ ♂ fPkMnk.</td>\n",
       "      <td>Nyan cat.</td>\n",
       "    </tr>\n",
       "    <tr>\n",
       "      <th>83678</th>\n",
       "      <td>Nyan cat.</td>\n",
       "      <td>Woot, I broke Cleverbot with Glitch Pokemon!</td>\n",
       "    </tr>\n",
       "    <tr>\n",
       "      <th>83679</th>\n",
       "      <td>Woot, I broke Cleverbot with Glitch Pokemon!</td>\n",
       "      <td>Thats ok but I still love you.</td>\n",
       "    </tr>\n",
       "    <tr>\n",
       "      <th>83680</th>\n",
       "      <td>Thats ok but I still love you.</td>\n",
       "      <td>O.o.</td>\n",
       "    </tr>\n",
       "    <tr>\n",
       "      <th>83681</th>\n",
       "      <td>What is a penis?</td>\n",
       "      <td>A figment of your imagination.</td>\n",
       "    </tr>\n",
       "    <tr>\n",
       "      <th>83682</th>\n",
       "      <td>*comes back and puts justin bieber next to you*.</td>\n",
       "      <td>*throws queer out the window*.</td>\n",
       "    </tr>\n",
       "    <tr>\n",
       "      <th>83683</th>\n",
       "      <td>*Starts to cry*</td>\n",
       "      <td>*hugs you* Don't cry.</td>\n",
       "    </tr>\n",
       "    <tr>\n",
       "      <th>83684</th>\n",
       "      <td>*hugs you* Don't cry.</td>\n",
       "      <td>*cries even more*.</td>\n",
       "    </tr>\n",
       "    <tr>\n",
       "      <th>83685</th>\n",
       "      <td>It's okay, Chad is really into you.</td>\n",
       "      <td>O.o.</td>\n",
       "    </tr>\n",
       "    <tr>\n",
       "      <th>83686</th>\n",
       "      <td>Aren't you an AI?</td>\n",
       "      <td>No, I am not an AI. I am 100% human.</td>\n",
       "    </tr>\n",
       "    <tr>\n",
       "      <th>83687</th>\n",
       "      <td>No, I am not an AI. I am 100% human.</td>\n",
       "      <td>No, you're not. You're an AI. A-I. Got it?</td>\n",
       "    </tr>\n",
       "    <tr>\n",
       "      <th>83688</th>\n",
       "      <td>No, you're not. You're an AI. A-I. Got it?</td>\n",
       "      <td>No, I don't 'get it'...because I am the human. I know exactly what I am. Whereas you don't even know half of the things you're saying.</td>\n",
       "    </tr>\n",
       "    <tr>\n",
       "      <th>83689</th>\n",
       "      <td>No, I don't 'get it'...because I am the human. I know exactly what I am. Whereas you don't even know half of the things you're saying.</td>\n",
       "      <td>Mars.</td>\n",
       "    </tr>\n",
       "    <tr>\n",
       "      <th>83690</th>\n",
       "      <td>Who is your favorite character from pokemon?</td>\n",
       "      <td>That was rude.</td>\n",
       "    </tr>\n",
       "  </tbody>\n",
       "</table>\n",
       "<p>83691 rows × 2 columns</p>\n",
       "</div>"
      ],
      "text/plain": [
       "                                                                                                                                            q  \\\n",
       "0                                                                                                                                   *walking*   \n",
       "1                                                                                                                 *looks at you and winks* ;)   \n",
       "2                                                                                                                          O.O *walks faster*   \n",
       "3                                                                                           *catches up with you and pins you against a wall*   \n",
       "4                                                                                                            *eyes widen* W-What do you want?   \n",
       "...                                                                                                                                       ...   \n",
       "83686                                                                                                                       Aren't you an AI?   \n",
       "83687                                                                                                    No, I am not an AI. I am 100% human.   \n",
       "83688                                                                                              No, you're not. You're an AI. A-I. Got it?   \n",
       "83689  No, I don't 'get it'...because I am the human. I know exactly what I am. Whereas you don't even know half of the things you're saying.   \n",
       "83690                                                                                            Who is your favorite character from pokemon?   \n",
       "\n",
       "                                                                                                                                            a  \n",
       "0                                                                                                                 *looks at you and winks* ;)  \n",
       "1                                                                                                                          O.O *walks faster*  \n",
       "2                                                                                           *catches up with you and pins you against a wall*  \n",
       "3                                                                                                            *eyes widen* W-What do you want?  \n",
       "4                                                                                                                                   Your mom.  \n",
       "...                                                                                                                                       ...  \n",
       "83686                                                                                                    No, I am not an AI. I am 100% human.  \n",
       "83687                                                                                              No, you're not. You're an AI. A-I. Got it?  \n",
       "83688  No, I don't 'get it'...because I am the human. I know exactly what I am. Whereas you don't even know half of the things you're saying.  \n",
       "83689                                                                                                                                   Mars.  \n",
       "83690                                                                                                                          That was rude.  \n",
       "\n",
       "[83691 rows x 2 columns]"
      ]
     },
     "execution_count": 6,
     "metadata": {},
     "output_type": "execute_result"
    }
   ],
   "source": [
    "convo_frame"
   ]
  },
  {
   "cell_type": "code",
   "execution_count": 7,
   "metadata": {},
   "outputs": [],
   "source": [
    "from sklearn.feature_extraction.text import TfidfVectorizer\n",
    "from sklearn.metrics.pairwise import cosine_similarity\n",
    "\n",
    "vectorizer = TfidfVectorizer(ngram_range=(1,3))\n",
    "vec = vectorizer.fit_transform(convo_frame['q'])"
   ]
  },
  {
   "cell_type": "code",
   "execution_count": 8,
   "metadata": {},
   "outputs": [
    {
     "data": {
      "text/plain": [
       "19522    0.638891\n",
       "70033    0.537884\n",
       "51408    0.531098\n",
       "20291    0.528135\n",
       "78818    0.460475\n",
       "dtype: float64"
      ]
     },
     "execution_count": 8,
     "metadata": {},
     "output_type": "execute_result"
    }
   ],
   "source": [
    "my_q = vectorizer.transform(['Hi. My name is Alex.'])\n",
    "\n",
    "cs = cosine_similarity(my_q, vec)\n",
    "\n",
    "rs = pd.Series(cs[0]).sort_values(ascending=False)\n",
    "top5 = rs.iloc[0:5]\n",
    "top5"
   ]
  },
  {
   "cell_type": "code",
   "execution_count": 9,
   "metadata": {},
   "outputs": [
    {
     "data": {
      "text/plain": [
       "19522    Hi my name is Cleverbot.\n",
       "70033     Okay your name is Alex.\n",
       "51408           Hi my name is pat\n",
       "20291         Hi my name is lune.\n",
       "78818                 My name is.\n",
       "Name: q, dtype: object"
      ]
     },
     "execution_count": 9,
     "metadata": {},
     "output_type": "execute_result"
    }
   ],
   "source": [
    "convo_frame.iloc[top5.index]['q']"
   ]
  },
  {
   "cell_type": "code",
   "execution_count": 10,
   "metadata": {},
   "outputs": [
    {
     "data": {
      "text/plain": [
       "'Are you clever or something.'"
      ]
     },
     "execution_count": 10,
     "metadata": {},
     "output_type": "execute_result"
    }
   ],
   "source": [
    "rsi = rs.index[0]\n",
    "rsi\n",
    "\n",
    "convo_frame.iloc[rsi]['a']"
   ]
  },
  {
   "cell_type": "code",
   "execution_count": 11,
   "metadata": {},
   "outputs": [
    {
     "data": {
      "text/plain": [
       "'No you are not.'"
      ]
     },
     "execution_count": 11,
     "metadata": {},
     "output_type": "execute_result"
    }
   ],
   "source": [
    "def get_response(q):\n",
    "    my_q = vectorizer.transform([q])\n",
    "    cs = cosine_similarity(my_q, vec)\n",
    "    rs = pd.Series(cs[0]).sort_values(ascending=False)\n",
    "    rsi = rs.index[0]\n",
    "    return convo_frame.iloc[rsi]['a']\n",
    "\n",
    "get_response('Yes, I am clearly more clever than you will ever be!')"
   ]
  },
  {
   "cell_type": "code",
   "execution_count": 12,
   "metadata": {},
   "outputs": [
    {
     "data": {
      "text/plain": [
       "\"I'm me.\""
      ]
     },
     "execution_count": 12,
     "metadata": {},
     "output_type": "execute_result"
    }
   ],
   "source": [
    "get_response('Who are you?')"
   ]
  },
  {
   "cell_type": "code",
   "execution_count": 13,
   "metadata": {},
   "outputs": [
    {
     "data": {
      "text/plain": [
       "'World Peace.'"
      ]
     },
     "execution_count": 13,
     "metadata": {},
     "output_type": "execute_result"
    }
   ],
   "source": [
    "get_response('What is your goal?')"
   ]
  },
  {
   "cell_type": "code",
   "execution_count": 14,
   "metadata": {},
   "outputs": [
    {
     "data": {
      "text/plain": [
       "0                                                                                                                                     *walking*\n",
       "1                                                                                                                   *looks at you and winks* ;)\n",
       "2                                                                                                                            O.O *walks faster*\n",
       "3                                                                                             *catches up with you and pins you against a wall*\n",
       "4                                                                                                              *eyes widen* W-What do you want?\n",
       "                                                                          ...                                                                  \n",
       "83686                                                                                                                         Aren't you an AI?\n",
       "83687                                                                                                      No, I am not an AI. I am 100% human.\n",
       "83688                                                                                                No, you're not. You're an AI. A-I. Got it?\n",
       "83689    No, I don't 'get it'...because I am the human. I know exactly what I am. Whereas you don't even know half of the things you're saying.\n",
       "83690                                                                                              Who is your favorite character from pokemon?\n",
       "Name: q, Length: 83691, dtype: object"
      ]
     },
     "execution_count": 14,
     "metadata": {},
     "output_type": "execute_result"
    }
   ],
   "source": [
    "convo_frame['q']"
   ]
  },
  {
   "cell_type": "code",
   "execution_count": 15,
   "metadata": {},
   "outputs": [
    {
     "data": {
      "text/plain": [
       "0                                                                                                                   *looks at you and winks* ;)\n",
       "1                                                                                                                            O.O *walks faster*\n",
       "2                                                                                             *catches up with you and pins you against a wall*\n",
       "3                                                                                                              *eyes widen* W-What do you want?\n",
       "4                                                                                                                                     Your mom.\n",
       "                                                                          ...                                                                  \n",
       "83686                                                                                                      No, I am not an AI. I am 100% human.\n",
       "83687                                                                                                No, you're not. You're an AI. A-I. Got it?\n",
       "83688    No, I don't 'get it'...because I am the human. I know exactly what I am. Whereas you don't even know half of the things you're saying.\n",
       "83689                                                                                                                                     Mars.\n",
       "83690                                                                                                                            That was rude.\n",
       "Name: a, Length: 83691, dtype: object"
      ]
     },
     "execution_count": 15,
     "metadata": {},
     "output_type": "execute_result"
    }
   ],
   "source": [
    "convo_frame['a']"
   ]
  },
  {
   "cell_type": "code",
   "execution_count": 21,
   "metadata": {},
   "outputs": [
    {
     "name": "stderr",
     "output_type": "stream",
     "text": [
      "Using TensorFlow backend.\n"
     ]
    },
    {
     "ename": "ModuleNotFoundError",
     "evalue": "No module named 'tensorflow'",
     "output_type": "error",
     "traceback": [
      "\u001b[1;31m---------------------------------------------------------------------------\u001b[0m",
      "\u001b[1;31mModuleNotFoundError\u001b[0m                       Traceback (most recent call last)",
      "\u001b[1;32m<ipython-input-21-1eb5455e0763>\u001b[0m in \u001b[0;36m<module>\u001b[1;34m\u001b[0m\n\u001b[1;32m----> 1\u001b[1;33m \u001b[1;32mfrom\u001b[0m \u001b[0mkeras\u001b[0m\u001b[1;33m.\u001b[0m\u001b[0mmodels\u001b[0m \u001b[1;32mimport\u001b[0m \u001b[0mModel\u001b[0m\u001b[1;33m\u001b[0m\u001b[1;33m\u001b[0m\u001b[0m\n\u001b[0m\u001b[0;32m      2\u001b[0m \u001b[1;32mfrom\u001b[0m \u001b[0mkeras\u001b[0m\u001b[1;33m.\u001b[0m\u001b[0mlayers\u001b[0m \u001b[1;32mimport\u001b[0m \u001b[0mInput\u001b[0m\u001b[1;33m,\u001b[0m \u001b[0mLSTM\u001b[0m\u001b[1;33m,\u001b[0m \u001b[0mDense\u001b[0m\u001b[1;33m\u001b[0m\u001b[1;33m\u001b[0m\u001b[0m\n\u001b[0;32m      3\u001b[0m \u001b[1;32mimport\u001b[0m \u001b[0mnumpy\u001b[0m \u001b[1;32mas\u001b[0m \u001b[0mnp\u001b[0m\u001b[1;33m\u001b[0m\u001b[1;33m\u001b[0m\u001b[0m\n\u001b[0;32m      4\u001b[0m \u001b[1;33m\u001b[0m\u001b[0m\n\u001b[0;32m      5\u001b[0m \u001b[0mbatch_size\u001b[0m \u001b[1;33m=\u001b[0m \u001b[1;36m64\u001b[0m  \u001b[1;31m# Batch size for training.\u001b[0m\u001b[1;33m\u001b[0m\u001b[1;33m\u001b[0m\u001b[0m\n",
      "\u001b[1;32md:\\python\\lib\\site-packages\\keras\\__init__.py\u001b[0m in \u001b[0;36m<module>\u001b[1;34m\u001b[0m\n\u001b[0;32m      1\u001b[0m \u001b[1;32mfrom\u001b[0m \u001b[0m__future__\u001b[0m \u001b[1;32mimport\u001b[0m \u001b[0mabsolute_import\u001b[0m\u001b[1;33m\u001b[0m\u001b[1;33m\u001b[0m\u001b[0m\n\u001b[0;32m      2\u001b[0m \u001b[1;33m\u001b[0m\u001b[0m\n\u001b[1;32m----> 3\u001b[1;33m \u001b[1;32mfrom\u001b[0m \u001b[1;33m.\u001b[0m \u001b[1;32mimport\u001b[0m \u001b[0mutils\u001b[0m\u001b[1;33m\u001b[0m\u001b[1;33m\u001b[0m\u001b[0m\n\u001b[0m\u001b[0;32m      4\u001b[0m \u001b[1;32mfrom\u001b[0m \u001b[1;33m.\u001b[0m \u001b[1;32mimport\u001b[0m \u001b[0mactivations\u001b[0m\u001b[1;33m\u001b[0m\u001b[1;33m\u001b[0m\u001b[0m\n\u001b[0;32m      5\u001b[0m \u001b[1;32mfrom\u001b[0m \u001b[1;33m.\u001b[0m \u001b[1;32mimport\u001b[0m \u001b[0mapplications\u001b[0m\u001b[1;33m\u001b[0m\u001b[1;33m\u001b[0m\u001b[0m\n",
      "\u001b[1;32md:\\python\\lib\\site-packages\\keras\\utils\\__init__.py\u001b[0m in \u001b[0;36m<module>\u001b[1;34m\u001b[0m\n\u001b[0;32m      4\u001b[0m \u001b[1;32mfrom\u001b[0m \u001b[1;33m.\u001b[0m \u001b[1;32mimport\u001b[0m \u001b[0mdata_utils\u001b[0m\u001b[1;33m\u001b[0m\u001b[1;33m\u001b[0m\u001b[0m\n\u001b[0;32m      5\u001b[0m \u001b[1;32mfrom\u001b[0m \u001b[1;33m.\u001b[0m \u001b[1;32mimport\u001b[0m \u001b[0mio_utils\u001b[0m\u001b[1;33m\u001b[0m\u001b[1;33m\u001b[0m\u001b[0m\n\u001b[1;32m----> 6\u001b[1;33m \u001b[1;32mfrom\u001b[0m \u001b[1;33m.\u001b[0m \u001b[1;32mimport\u001b[0m \u001b[0mconv_utils\u001b[0m\u001b[1;33m\u001b[0m\u001b[1;33m\u001b[0m\u001b[0m\n\u001b[0m\u001b[0;32m      7\u001b[0m \u001b[1;32mfrom\u001b[0m \u001b[1;33m.\u001b[0m \u001b[1;32mimport\u001b[0m \u001b[0mlosses_utils\u001b[0m\u001b[1;33m\u001b[0m\u001b[1;33m\u001b[0m\u001b[0m\n\u001b[0;32m      8\u001b[0m \u001b[1;32mfrom\u001b[0m \u001b[1;33m.\u001b[0m \u001b[1;32mimport\u001b[0m \u001b[0mmetrics_utils\u001b[0m\u001b[1;33m\u001b[0m\u001b[1;33m\u001b[0m\u001b[0m\n",
      "\u001b[1;32md:\\python\\lib\\site-packages\\keras\\utils\\conv_utils.py\u001b[0m in \u001b[0;36m<module>\u001b[1;34m\u001b[0m\n\u001b[0;32m      7\u001b[0m \u001b[1;32mfrom\u001b[0m \u001b[0msix\u001b[0m\u001b[1;33m.\u001b[0m\u001b[0mmoves\u001b[0m \u001b[1;32mimport\u001b[0m \u001b[0mrange\u001b[0m\u001b[1;33m\u001b[0m\u001b[1;33m\u001b[0m\u001b[0m\n\u001b[0;32m      8\u001b[0m \u001b[1;32mimport\u001b[0m \u001b[0mnumpy\u001b[0m \u001b[1;32mas\u001b[0m \u001b[0mnp\u001b[0m\u001b[1;33m\u001b[0m\u001b[1;33m\u001b[0m\u001b[0m\n\u001b[1;32m----> 9\u001b[1;33m \u001b[1;32mfrom\u001b[0m \u001b[1;33m.\u001b[0m\u001b[1;33m.\u001b[0m \u001b[1;32mimport\u001b[0m \u001b[0mbackend\u001b[0m \u001b[1;32mas\u001b[0m \u001b[0mK\u001b[0m\u001b[1;33m\u001b[0m\u001b[1;33m\u001b[0m\u001b[0m\n\u001b[0m\u001b[0;32m     10\u001b[0m \u001b[1;33m\u001b[0m\u001b[0m\n\u001b[0;32m     11\u001b[0m \u001b[1;33m\u001b[0m\u001b[0m\n",
      "\u001b[1;32md:\\python\\lib\\site-packages\\keras\\backend\\__init__.py\u001b[0m in \u001b[0;36m<module>\u001b[1;34m\u001b[0m\n\u001b[1;32m----> 1\u001b[1;33m \u001b[1;32mfrom\u001b[0m \u001b[1;33m.\u001b[0m\u001b[0mload_backend\u001b[0m \u001b[1;32mimport\u001b[0m \u001b[0mepsilon\u001b[0m\u001b[1;33m\u001b[0m\u001b[1;33m\u001b[0m\u001b[0m\n\u001b[0m\u001b[0;32m      2\u001b[0m \u001b[1;32mfrom\u001b[0m \u001b[1;33m.\u001b[0m\u001b[0mload_backend\u001b[0m \u001b[1;32mimport\u001b[0m \u001b[0mset_epsilon\u001b[0m\u001b[1;33m\u001b[0m\u001b[1;33m\u001b[0m\u001b[0m\n\u001b[0;32m      3\u001b[0m \u001b[1;32mfrom\u001b[0m \u001b[1;33m.\u001b[0m\u001b[0mload_backend\u001b[0m \u001b[1;32mimport\u001b[0m \u001b[0mfloatx\u001b[0m\u001b[1;33m\u001b[0m\u001b[1;33m\u001b[0m\u001b[0m\n\u001b[0;32m      4\u001b[0m \u001b[1;32mfrom\u001b[0m \u001b[1;33m.\u001b[0m\u001b[0mload_backend\u001b[0m \u001b[1;32mimport\u001b[0m \u001b[0mset_floatx\u001b[0m\u001b[1;33m\u001b[0m\u001b[1;33m\u001b[0m\u001b[0m\n\u001b[0;32m      5\u001b[0m \u001b[1;32mfrom\u001b[0m \u001b[1;33m.\u001b[0m\u001b[0mload_backend\u001b[0m \u001b[1;32mimport\u001b[0m \u001b[0mcast_to_floatx\u001b[0m\u001b[1;33m\u001b[0m\u001b[1;33m\u001b[0m\u001b[0m\n",
      "\u001b[1;32md:\\python\\lib\\site-packages\\keras\\backend\\load_backend.py\u001b[0m in \u001b[0;36m<module>\u001b[1;34m\u001b[0m\n\u001b[0;32m     88\u001b[0m \u001b[1;32melif\u001b[0m \u001b[0m_BACKEND\u001b[0m \u001b[1;33m==\u001b[0m \u001b[1;34m'tensorflow'\u001b[0m\u001b[1;33m:\u001b[0m\u001b[1;33m\u001b[0m\u001b[1;33m\u001b[0m\u001b[0m\n\u001b[0;32m     89\u001b[0m     \u001b[0msys\u001b[0m\u001b[1;33m.\u001b[0m\u001b[0mstderr\u001b[0m\u001b[1;33m.\u001b[0m\u001b[0mwrite\u001b[0m\u001b[1;33m(\u001b[0m\u001b[1;34m'Using TensorFlow backend.\\n'\u001b[0m\u001b[1;33m)\u001b[0m\u001b[1;33m\u001b[0m\u001b[1;33m\u001b[0m\u001b[0m\n\u001b[1;32m---> 90\u001b[1;33m     \u001b[1;32mfrom\u001b[0m \u001b[1;33m.\u001b[0m\u001b[0mtensorflow_backend\u001b[0m \u001b[1;32mimport\u001b[0m \u001b[1;33m*\u001b[0m\u001b[1;33m\u001b[0m\u001b[1;33m\u001b[0m\u001b[0m\n\u001b[0m\u001b[0;32m     91\u001b[0m \u001b[1;32melse\u001b[0m\u001b[1;33m:\u001b[0m\u001b[1;33m\u001b[0m\u001b[1;33m\u001b[0m\u001b[0m\n\u001b[0;32m     92\u001b[0m     \u001b[1;31m# Try and load external backend.\u001b[0m\u001b[1;33m\u001b[0m\u001b[1;33m\u001b[0m\u001b[1;33m\u001b[0m\u001b[0m\n",
      "\u001b[1;32md:\\python\\lib\\site-packages\\keras\\backend\\tensorflow_backend.py\u001b[0m in \u001b[0;36m<module>\u001b[1;34m\u001b[0m\n\u001b[0;32m      3\u001b[0m \u001b[1;32mfrom\u001b[0m \u001b[0m__future__\u001b[0m \u001b[1;32mimport\u001b[0m \u001b[0mprint_function\u001b[0m\u001b[1;33m\u001b[0m\u001b[1;33m\u001b[0m\u001b[0m\n\u001b[0;32m      4\u001b[0m \u001b[1;33m\u001b[0m\u001b[0m\n\u001b[1;32m----> 5\u001b[1;33m \u001b[1;32mimport\u001b[0m \u001b[0mtensorflow\u001b[0m \u001b[1;32mas\u001b[0m \u001b[0mtf\u001b[0m\u001b[1;33m\u001b[0m\u001b[1;33m\u001b[0m\u001b[0m\n\u001b[0m\u001b[0;32m      6\u001b[0m \u001b[1;32mfrom\u001b[0m \u001b[0mtensorflow\u001b[0m\u001b[1;33m.\u001b[0m\u001b[0mpython\u001b[0m\u001b[1;33m.\u001b[0m\u001b[0meager\u001b[0m \u001b[1;32mimport\u001b[0m \u001b[0mcontext\u001b[0m\u001b[1;33m\u001b[0m\u001b[1;33m\u001b[0m\u001b[0m\n\u001b[0;32m      7\u001b[0m \u001b[1;32mfrom\u001b[0m \u001b[0mtensorflow\u001b[0m\u001b[1;33m.\u001b[0m\u001b[0mpython\u001b[0m\u001b[1;33m.\u001b[0m\u001b[0mframework\u001b[0m \u001b[1;32mimport\u001b[0m \u001b[0mdevice\u001b[0m \u001b[1;32mas\u001b[0m \u001b[0mtfdev\u001b[0m\u001b[1;33m\u001b[0m\u001b[1;33m\u001b[0m\u001b[0m\n",
      "\u001b[1;31mModuleNotFoundError\u001b[0m: No module named 'tensorflow'"
     ]
    }
   ],
   "source": [
    "from keras.models import Model\n",
    "from keras.layers import Input, LSTM, Dense\n",
    "import numpy as np\n",
    "\n",
    "batch_size = 64  # Batch size for training.\n",
    "epochs = 100  # Number of epochs to train for.\n",
    "latent_dim = 256  # Latent dimensionality of the encoding space.\n",
    "num_samples = 1000  # Number of samples to train on."
   ]
  },
  {
   "cell_type": "code",
   "execution_count": null,
   "metadata": {},
   "outputs": [],
   "source": [
    "input_texts = []\n",
    "target_texts = []\n",
    "input_characters = set()\n",
    "target_characters = set()"
   ]
  },
  {
   "cell_type": "code",
   "execution_count": 18,
   "metadata": {},
   "outputs": [],
   "source": [
    "convo_frame['q len'] = convo_frame['q'].astype('str').apply(lambda x: len(x))\n",
    "convo_frame['a len'] = convo_frame['a'].astype('str').apply(lambda x: len(x))\n",
    "convo_frame = convo_frame[(convo_frame['q len'] < 50)&(convo_frame['a len'] < 50)]"
   ]
  },
  {
   "cell_type": "code",
   "execution_count": 19,
   "metadata": {},
   "outputs": [
    {
     "ename": "NameError",
     "evalue": "name 'num_samples' is not defined",
     "output_type": "error",
     "traceback": [
      "\u001b[1;31m---------------------------------------------------------------------------\u001b[0m",
      "\u001b[1;31mNameError\u001b[0m                                 Traceback (most recent call last)",
      "\u001b[1;32m<ipython-input-19-42e29c5e5494>\u001b[0m in \u001b[0;36m<module>\u001b[1;34m\u001b[0m\n\u001b[1;32m----> 1\u001b[1;33m \u001b[0mconvo_frame_cut\u001b[0m \u001b[1;33m=\u001b[0m \u001b[0mconvo_frame\u001b[0m\u001b[1;33m.\u001b[0m\u001b[0mhead\u001b[0m\u001b[1;33m(\u001b[0m\u001b[0mnum_samples\u001b[0m\u001b[1;33m)\u001b[0m\u001b[1;33m\u001b[0m\u001b[1;33m\u001b[0m\u001b[0m\n\u001b[0m",
      "\u001b[1;31mNameError\u001b[0m: name 'num_samples' is not defined"
     ]
    }
   ],
   "source": [
    "convo_frame_cut = convo_frame.head(num_samples)"
   ]
  },
  {
   "cell_type": "code",
   "execution_count": 20,
   "metadata": {},
   "outputs": [
    {
     "ename": "NameError",
     "evalue": "name 'convo_frame_cut' is not defined",
     "output_type": "error",
     "traceback": [
      "\u001b[1;31m---------------------------------------------------------------------------\u001b[0m",
      "\u001b[1;31mNameError\u001b[0m                                 Traceback (most recent call last)",
      "\u001b[1;32m<ipython-input-20-f2f702e1641c>\u001b[0m in \u001b[0;36m<module>\u001b[1;34m\u001b[0m\n\u001b[1;32m----> 1\u001b[1;33m \u001b[0minput_texts\u001b[0m \u001b[1;33m=\u001b[0m \u001b[0mlist\u001b[0m\u001b[1;33m(\u001b[0m\u001b[0mconvo_frame_cut\u001b[0m\u001b[1;33m[\u001b[0m\u001b[1;34m'q'\u001b[0m\u001b[1;33m]\u001b[0m\u001b[1;33m.\u001b[0m\u001b[0mastype\u001b[0m\u001b[1;33m(\u001b[0m\u001b[1;34m'str'\u001b[0m\u001b[1;33m)\u001b[0m\u001b[1;33m)\u001b[0m\u001b[1;33m\u001b[0m\u001b[1;33m\u001b[0m\u001b[0m\n\u001b[0m\u001b[0;32m      2\u001b[0m \u001b[0mtarget_texts\u001b[0m \u001b[1;33m=\u001b[0m \u001b[0mlist\u001b[0m\u001b[1;33m(\u001b[0m\u001b[0mconvo_frame_cut\u001b[0m\u001b[1;33m[\u001b[0m\u001b[1;34m'a'\u001b[0m\u001b[1;33m]\u001b[0m\u001b[1;33m.\u001b[0m\u001b[0mmap\u001b[0m\u001b[1;33m(\u001b[0m\u001b[1;32mlambda\u001b[0m \u001b[0mx\u001b[0m\u001b[1;33m:\u001b[0m \u001b[1;34m'\\t'\u001b[0m \u001b[1;33m+\u001b[0m \u001b[0mx\u001b[0m \u001b[1;33m+\u001b[0m \u001b[1;34m'\\n'\u001b[0m\u001b[1;33m)\u001b[0m\u001b[1;33m.\u001b[0m\u001b[0mastype\u001b[0m\u001b[1;33m(\u001b[0m\u001b[1;34m'str'\u001b[0m\u001b[1;33m)\u001b[0m\u001b[1;33m)\u001b[0m\u001b[1;33m\u001b[0m\u001b[1;33m\u001b[0m\u001b[0m\n",
      "\u001b[1;31mNameError\u001b[0m: name 'convo_frame_cut' is not defined"
     ]
    }
   ],
   "source": [
    "input_texts = list(convo_frame_cut['q'].astype('str'))\n",
    "target_texts = list(convo_frame_cut['a'].map(lambda x: '\\t' + x + '\\n').astype('str'))"
   ]
  },
  {
   "cell_type": "code",
   "execution_count": null,
   "metadata": {},
   "outputs": [],
   "source": [
    "for input_text, target_text in zip(input_texts, target_texts):\n",
    "    for char in input_text:\n",
    "        if char not in input_characters:\n",
    "            input_characters.add(char)\n",
    "    for char in target_text:\n",
    "        if char not in target_characters:\n",
    "            target_characters.add(char)"
   ]
  },
  {
   "cell_type": "code",
   "execution_count": 17,
   "metadata": {},
   "outputs": [
    {
     "ename": "NameError",
     "evalue": "name 'input_texts' is not defined",
     "output_type": "error",
     "traceback": [
      "\u001b[1;31m---------------------------------------------------------------------------\u001b[0m",
      "\u001b[1;31mNameError\u001b[0m                                 Traceback (most recent call last)",
      "\u001b[1;32m<ipython-input-17-d272cbd17128>\u001b[0m in \u001b[0;36m<module>\u001b[1;34m\u001b[0m\n\u001b[1;32m----> 1\u001b[1;33m \u001b[0minput_texts\u001b[0m\u001b[1;33m\u001b[0m\u001b[1;33m\u001b[0m\u001b[0m\n\u001b[0m",
      "\u001b[1;31mNameError\u001b[0m: name 'input_texts' is not defined"
     ]
    }
   ],
   "source": [
    "input_texts"
   ]
  },
  {
   "cell_type": "code",
   "execution_count": null,
   "metadata": {},
   "outputs": [],
   "source": [
    "target_texts"
   ]
  }
 ],
 "metadata": {
  "kernelspec": {
   "display_name": "Python 3",
   "language": "python",
   "name": "python3"
  },
  "language_info": {
   "codemirror_mode": {
    "name": "ipython",
    "version": 3
   },
   "file_extension": ".py",
   "mimetype": "text/x-python",
   "name": "python",
   "nbconvert_exporter": "python",
   "pygments_lexer": "ipython3",
   "version": "3.7.4"
  },
  "widgets": {
   "application/vnd.jupyter.widget-state+json": {
    "state": {},
    "version_major": 2,
    "version_minor": 0
   }
  }
 },
 "nbformat": 4,
 "nbformat_minor": 2
}
